{
 "cells": [
  {
   "cell_type": "code",
   "execution_count": 1,
   "id": "d93c8526-c209-453a-b904-05ca3b78a866",
   "metadata": {},
   "outputs": [],
   "source": [
    "import sys\n",
    "sys.path.append(\"../src\")"
   ]
  },
  {
   "cell_type": "code",
   "execution_count": 2,
   "id": "fcb863bd-0504-48b0-8da1-4a50fea1780c",
   "metadata": {},
   "outputs": [],
   "source": [
    "from tradingapi.alpaca.alpaca_api import AlpacaApi"
   ]
  },
  {
   "cell_type": "code",
   "execution_count": 3,
   "id": "1ecdbf92-ce9b-4d8b-996c-229392e2e895",
   "metadata": {},
   "outputs": [],
   "source": [
    "api_settings = {\n",
    "        \"APCA_API_KEY_ID\": \"\",\n",
    "        \"APCA_API_SECRET_KEY\": \"\",\n",
    "        \"APCA_API_BASE_URL\": \"https://paper-api.alpaca.markets\",\n",
    "        \"APCA_RETRY_MAX\": \"3\"\n",
    "}\n",
    "\n",
    "api = AlpacaApi(api_settings)"
   ]
  },
  {
   "cell_type": "code",
   "execution_count": 4,
   "id": "2e8ddca8-3f42-490d-a9b4-0f6e9e0d1055",
   "metadata": {},
   "outputs": [],
   "source": [
    "clock = await api.get_clock()"
   ]
  },
  {
   "cell_type": "code",
   "execution_count": 5,
   "id": "3bf81130-d45b-45ba-8b65-dfea1b3cb351",
   "metadata": {},
   "outputs": [
    {
     "data": {
      "text/plain": [
       "True"
      ]
     },
     "execution_count": 5,
     "metadata": {},
     "output_type": "execute_result"
    }
   ],
   "source": [
    "clock.is_open"
   ]
  },
  {
   "cell_type": "code",
   "execution_count": 6,
   "id": "ea9e55df-0d1e-4ce5-805b-7ce7b62a7357",
   "metadata": {},
   "outputs": [
    {
     "data": {
      "text/plain": [
       "Timestamp('2021-12-06 16:00:00-0500', tz='pytz.FixedOffset(-300)')"
      ]
     },
     "execution_count": 6,
     "metadata": {},
     "output_type": "execute_result"
    }
   ],
   "source": [
    "clock.next_close"
   ]
  },
  {
   "cell_type": "code",
   "execution_count": 7,
   "id": "15fe8f35-d467-4b24-b2f3-257939d11c85",
   "metadata": {},
   "outputs": [
    {
     "data": {
      "text/plain": [
       "Timestamp('2021-12-07 09:30:00-0500', tz='pytz.FixedOffset(-300)')"
      ]
     },
     "execution_count": 7,
     "metadata": {},
     "output_type": "execute_result"
    }
   ],
   "source": [
    "clock.next_open"
   ]
  },
  {
   "cell_type": "code",
   "execution_count": 8,
   "id": "ed09e94d-eaaa-4c76-83c7-fbf416508fea",
   "metadata": {},
   "outputs": [
    {
     "data": {
      "text/plain": [
       "Timestamp('2021-12-06 15:37:42.800793718-0500', tz='pytz.FixedOffset(-300)')"
      ]
     },
     "execution_count": 8,
     "metadata": {},
     "output_type": "execute_result"
    }
   ],
   "source": [
    "clock.timestamp"
   ]
  },
  {
   "cell_type": "code",
   "execution_count": 9,
   "id": "60da1a23-d8ad-4b32-b0a9-1f827429a248",
   "metadata": {},
   "outputs": [],
   "source": [
    "account = await api.get_account()"
   ]
  },
  {
   "cell_type": "code",
   "execution_count": 10,
   "id": "1c28ac18-51ca-4d2e-9d13-bd2cd76164fc",
   "metadata": {},
   "outputs": [
    {
     "data": {
      "text/plain": [
       "{'id': '6edd5e3d-cccb-43ed-8c66-eb11278afabe',\n",
       " 'account_number': 'PA3Q5COFMINK',\n",
       " 'account_blocked': False,\n",
       " 'buying_power': 179732.2,\n",
       " 'cash': 79808.0,\n",
       " 'created_at': Timestamp('2021-12-06 18:58:25.883375+0000', tz='UTC'),\n",
       " 'currency': 'USD',\n",
       " 'daytrade_count': 0,\n",
       " 'daytrading_buying_power': 0.0,\n",
       " 'equity': 99924.2,\n",
       " 'initial_margin': 10058.1,\n",
       " 'last_equity': 100000.0,\n",
       " 'last_maintenance_margin': 0.0,\n",
       " 'long_market_value': 20116.2,\n",
       " 'maintenance_margin': 6034.86,\n",
       " 'multiplier': 2.0,\n",
       " 'pattern_day_trader': False,\n",
       " 'portfolio_value': 99924.2,\n",
       " 'regt_buying_power': 179732.2,\n",
       " 'short_market_value': 0.0,\n",
       " 'shorting_enabled': 1.0,\n",
       " 'sma': 0.0,\n",
       " 'status': <Status.ACTIVE: 'ACTIVE'>,\n",
       " 'trade_suspended_by_user': False,\n",
       " 'trading_blocked': False,\n",
       " 'transfers_blocked': False}"
      ]
     },
     "execution_count": 10,
     "metadata": {},
     "output_type": "execute_result"
    }
   ],
   "source": [
    "account.__dict__"
   ]
  },
  {
   "cell_type": "code",
   "execution_count": 11,
   "id": "53998b21-034f-4b88-b026-0015911049f1",
   "metadata": {},
   "outputs": [
    {
     "name": "stdout",
     "output_type": "stream",
     "text": [
      "Help on method get_calendar in module alpaca_trade_api.rest:\n",
      "\n",
      "get_calendar(start: str = None, end: str = None) -> List[alpaca_trade_api.entity.Calendar] method of alpaca_trade_api.rest.REST instance\n",
      "    :param start: isoformat date string eg '2006-01-02T15:04:05Z' or\n",
      "           '2006-01-02'\n",
      "    :param end: isoformat date string\n",
      "\n"
     ]
    }
   ],
   "source": [
    "help(api.api.get_calendar)"
   ]
  },
  {
   "cell_type": "code",
   "execution_count": 12,
   "id": "9a6c9cd6-71db-4479-9eec-4ef8e92f55dc",
   "metadata": {},
   "outputs": [],
   "source": [
    "from datetime import datetime, timedelta\n",
    "from_date = datetime.utcnow() + timedelta(days=0)\n",
    "from_to = datetime.utcnow() + timedelta(days=14)\n",
    "trading_days = await api.get_trading_days(from_date, from_to)"
   ]
  },
  {
   "cell_type": "code",
   "execution_count": 13,
   "id": "66d11dd9-aedf-40b7-bce6-91c19f90ca6e",
   "metadata": {},
   "outputs": [
    {
     "name": "stdout",
     "output_type": "stream",
     "text": [
      "{'open': datetime.datetime(2021, 12, 6, 9, 30), 'close': datetime.datetime(2021, 12, 6, 16, 0)}\n",
      "{'open': datetime.datetime(2021, 12, 7, 9, 30), 'close': datetime.datetime(2021, 12, 7, 16, 0)}\n",
      "{'open': datetime.datetime(2021, 12, 8, 9, 30), 'close': datetime.datetime(2021, 12, 8, 16, 0)}\n",
      "{'open': datetime.datetime(2021, 12, 9, 9, 30), 'close': datetime.datetime(2021, 12, 9, 16, 0)}\n",
      "{'open': datetime.datetime(2021, 12, 10, 9, 30), 'close': datetime.datetime(2021, 12, 10, 16, 0)}\n",
      "{'open': datetime.datetime(2021, 12, 13, 9, 30), 'close': datetime.datetime(2021, 12, 13, 16, 0)}\n",
      "{'open': datetime.datetime(2021, 12, 14, 9, 30), 'close': datetime.datetime(2021, 12, 14, 16, 0)}\n",
      "{'open': datetime.datetime(2021, 12, 15, 9, 30), 'close': datetime.datetime(2021, 12, 15, 16, 0)}\n",
      "{'open': datetime.datetime(2021, 12, 16, 9, 30), 'close': datetime.datetime(2021, 12, 16, 16, 0)}\n",
      "{'open': datetime.datetime(2021, 12, 17, 9, 30), 'close': datetime.datetime(2021, 12, 17, 16, 0)}\n",
      "{'open': datetime.datetime(2021, 12, 20, 9, 30), 'close': datetime.datetime(2021, 12, 20, 16, 0)}\n"
     ]
    }
   ],
   "source": [
    "for x in trading_days:\n",
    "    print(x.__dict__)"
   ]
  },
  {
   "cell_type": "code",
   "execution_count": 14,
   "id": "49548f11-2565-447d-a596-e80b9f0a0724",
   "metadata": {},
   "outputs": [],
   "source": [
    "from domainmodels.order import Side"
   ]
  },
  {
   "cell_type": "code",
   "execution_count": 15,
   "id": "00274acf-0b12-43ce-ac49-601e5befc9a4",
   "metadata": {},
   "outputs": [
    {
     "ename": "AttributeError",
     "evalue": "'Order' object has no attribute 'take_profit'",
     "output_type": "error",
     "traceback": [
      "\u001b[0;31m---------------------------------------------------------------------------\u001b[0m",
      "\u001b[0;31mAttributeError\u001b[0m                            Traceback (most recent call last)",
      "\u001b[0;32m/tmp/ipykernel_55591/1220382475.py\u001b[0m in \u001b[0;36m<module>\u001b[0;34m\u001b[0m\n\u001b[0;32m----> 1\u001b[0;31m \u001b[0morder\u001b[0m \u001b[0;34m=\u001b[0m \u001b[0;32mawait\u001b[0m \u001b[0mapi\u001b[0m\u001b[0;34m.\u001b[0m\u001b[0msubmit_order\u001b[0m\u001b[0;34m(\u001b[0m\u001b[0;34m\"TSLA\"\u001b[0m\u001b[0;34m,\u001b[0m \u001b[0;36m10\u001b[0m\u001b[0;34m,\u001b[0m \u001b[0mSide\u001b[0m\u001b[0;34m.\u001b[0m\u001b[0mBUY\u001b[0m\u001b[0;34m)\u001b[0m\u001b[0;34m\u001b[0m\u001b[0;34m\u001b[0m\u001b[0m\n\u001b[0m",
      "\u001b[0;32m~/git/tradingapi/src/tradingapi/alpaca/alpaca_api.py\u001b[0m in \u001b[0;36msubmit_order\u001b[0;34m(self, symbol, qty, side, type, time_in_force, extended_hours, order_class, stop_price, limit_price, take_profit, stop_loss, trail_price, trail_percent, notional)\u001b[0m\n\u001b[1;32m    143\u001b[0m         \u001b[0;31m# Mapping\u001b[0m\u001b[0;34m\u001b[0m\u001b[0;34m\u001b[0m\u001b[0;34m\u001b[0m\u001b[0m\n\u001b[1;32m    144\u001b[0m         \u001b[0morder_mapper\u001b[0m \u001b[0;34m=\u001b[0m \u001b[0mOrderMapper\u001b[0m\u001b[0;34m(\u001b[0m\u001b[0;34m)\u001b[0m\u001b[0;34m\u001b[0m\u001b[0;34m\u001b[0m\u001b[0m\n\u001b[0;32m--> 145\u001b[0;31m         \u001b[0mdomain_order\u001b[0m \u001b[0;34m=\u001b[0m \u001b[0morder_mapper\u001b[0m\u001b[0;34m.\u001b[0m\u001b[0mmap\u001b[0m\u001b[0;34m(\u001b[0m\u001b[0morder\u001b[0m\u001b[0;34m)\u001b[0m\u001b[0;34m\u001b[0m\u001b[0;34m\u001b[0m\u001b[0m\n\u001b[0m\u001b[1;32m    146\u001b[0m \u001b[0;34m\u001b[0m\u001b[0m\n\u001b[1;32m    147\u001b[0m         \u001b[0;32mreturn\u001b[0m \u001b[0mdomain_order\u001b[0m\u001b[0;34m\u001b[0m\u001b[0;34m\u001b[0m\u001b[0m\n",
      "\u001b[0;32m~/git/tradingapi/src/mappers/order_mapper.py\u001b[0m in \u001b[0;36mmap\u001b[0;34m(self, order)\u001b[0m\n\u001b[1;32m     34\u001b[0m         \u001b[0;31m# Take Profit\u001b[0m\u001b[0;34m\u001b[0m\u001b[0;34m\u001b[0m\u001b[0;34m\u001b[0m\u001b[0m\n\u001b[1;32m     35\u001b[0m         \u001b[0mtake_profit\u001b[0m \u001b[0;34m=\u001b[0m \u001b[0mTakeProfit\u001b[0m\u001b[0;34m(\u001b[0m\u001b[0;34m)\u001b[0m\u001b[0;34m\u001b[0m\u001b[0;34m\u001b[0m\u001b[0m\n\u001b[0;32m---> 36\u001b[0;31m         \u001b[0mtake_profit\u001b[0m\u001b[0;34m.\u001b[0m\u001b[0mlimit_price\u001b[0m \u001b[0;34m=\u001b[0m \u001b[0morder\u001b[0m\u001b[0;34m.\u001b[0m\u001b[0mtake_profit\u001b[0m \u001b[0;32mand\u001b[0m \u001b[0morder\u001b[0m\u001b[0;34m.\u001b[0m\u001b[0mtake_profit\u001b[0m\u001b[0;34m.\u001b[0m\u001b[0mlimit_price\u001b[0m\u001b[0;34m\u001b[0m\u001b[0;34m\u001b[0m\u001b[0m\n\u001b[0m\u001b[1;32m     37\u001b[0m \u001b[0;34m\u001b[0m\u001b[0m\n\u001b[1;32m     38\u001b[0m         \u001b[0;31m# Stop Loss\u001b[0m\u001b[0;34m\u001b[0m\u001b[0;34m\u001b[0m\u001b[0;34m\u001b[0m\u001b[0m\n",
      "\u001b[0;32m~/.cache/pypoetry/virtualenvs/tradingapi-ENOqoGOd-py3.8/lib/python3.8/site-packages/alpaca_trade_api/entity.py\u001b[0m in \u001b[0;36m__getattr__\u001b[0;34m(self, key)\u001b[0m\n\u001b[1;32m     27\u001b[0m             \u001b[0;32melse\u001b[0m\u001b[0;34m:\u001b[0m\u001b[0;34m\u001b[0m\u001b[0;34m\u001b[0m\u001b[0m\n\u001b[1;32m     28\u001b[0m                 \u001b[0;32mreturn\u001b[0m \u001b[0mval\u001b[0m\u001b[0;34m\u001b[0m\u001b[0;34m\u001b[0m\u001b[0m\n\u001b[0;32m---> 29\u001b[0;31m         \u001b[0;32mreturn\u001b[0m \u001b[0msuper\u001b[0m\u001b[0;34m(\u001b[0m\u001b[0;34m)\u001b[0m\u001b[0;34m.\u001b[0m\u001b[0m__getattribute__\u001b[0m\u001b[0;34m(\u001b[0m\u001b[0mkey\u001b[0m\u001b[0;34m)\u001b[0m\u001b[0;34m\u001b[0m\u001b[0;34m\u001b[0m\u001b[0m\n\u001b[0m\u001b[1;32m     30\u001b[0m \u001b[0;34m\u001b[0m\u001b[0m\n\u001b[1;32m     31\u001b[0m     \u001b[0;32mdef\u001b[0m \u001b[0m__repr__\u001b[0m\u001b[0;34m(\u001b[0m\u001b[0mself\u001b[0m\u001b[0;34m)\u001b[0m\u001b[0;34m:\u001b[0m\u001b[0;34m\u001b[0m\u001b[0;34m\u001b[0m\u001b[0m\n",
      "\u001b[0;31mAttributeError\u001b[0m: 'Order' object has no attribute 'take_profit'"
     ]
    }
   ],
   "source": [
    "order = await api.submit_order(\"TSLA\", 10, Side.BUY)"
   ]
  },
  {
   "cell_type": "code",
   "execution_count": 23,
   "id": "ac27cb80-ff23-4081-a1fc-64296fb4be9d",
   "metadata": {},
   "outputs": [
    {
     "name": "stdout",
     "output_type": "stream",
     "text": [
      "Help on method submit_order in module alpaca_trade_api.rest:\n",
      "\n",
      "submit_order(symbol: str, qty: int, side: str, type: str, time_in_force: str, limit_price: str = None, stop_price: str = None, client_order_id: str = None, extended_hours: bool = None, order_class: str = None, take_profit: dict = None, stop_loss: dict = None, trail_price: str = None, instructions: str = None, trail_percent: str = None) method of alpaca_trade_api.rest.REST instance\n",
      "    :param symbol: symbol or asset ID\n",
      "    :param qty: int\n",
      "    :param side: buy or sell\n",
      "    :param type: market, limit, stop, stop_limit or trailing_stop\n",
      "    :param time_in_force: day, gtc, opg, cls, ioc, fok\n",
      "    :param limit_price: str of float\n",
      "    :param stop_price: str of float\n",
      "    :param client_order_id:\n",
      "    :param extended_hours: bool. If true, order will be eligible to execute\n",
      "           in premarket/afterhours.\n",
      "    :param order_class: simple, bracket, oco or oto\n",
      "    :param take_profit: dict with field \"limit_price\" e.g\n",
      "           {\"limit_price\": \"298.95\"}\n",
      "    :param stop_loss: dict with fields \"stop_price\" and \"limit_price\" e.g\n",
      "           {\"stop_price\": \"297.95\", \"limit_price\": \"298.95\"}\n",
      "    :param trail_price: str of float\n",
      "    :param trail_percent: str of float\n",
      "\n"
     ]
    }
   ],
   "source": [
    "help(api.api.submit_order)"
   ]
  },
  {
   "cell_type": "code",
   "execution_count": null,
   "id": "3dfc0c85-691c-4643-89b5-e22c1cccf04f",
   "metadata": {},
   "outputs": [],
   "source": [
    "#take_profit.limit_price must be > stop_loss.stop_price"
   ]
  },
  {
   "cell_type": "code",
   "execution_count": null,
   "id": "61a20022-c53c-4dc4-83ee-e1b95f9bcc78",
   "metadata": {},
   "outputs": [],
   "source": [
    "#take_profit.limit_price must be >= base_price + 0.01"
   ]
  },
  {
   "cell_type": "code",
   "execution_count": 41,
   "id": "e968e646-080e-484a-bb04-a0686017bb1a",
   "metadata": {},
   "outputs": [],
   "source": [
    "take_profit = {\n",
    "    \"limit_price\": \"3000.00\"\n",
    "}"
   ]
  },
  {
   "cell_type": "code",
   "execution_count": 42,
   "id": "589a098c-0ad6-4011-9caa-91eb49463404",
   "metadata": {},
   "outputs": [],
   "source": [
    "stop_loss = {\"stop_price\": \"297.95\", \"limit_price\": \"290.95\"}"
   ]
  },
  {
   "cell_type": "code",
   "execution_count": 43,
   "id": "2574abf8-820c-4842-be33-03989a0a6205",
   "metadata": {},
   "outputs": [],
   "source": [
    "order = api.api.submit_order(\"TSLA\", 10, side=\"buy\", type=\"market\", time_in_force=\"day\", take_profit=take_profit, order_class=\"bracket\", stop_loss=stop_loss)"
   ]
  },
  {
   "cell_type": "code",
   "execution_count": 44,
   "id": "ff2ce725-59ce-41ad-a306-9f4d3443255c",
   "metadata": {},
   "outputs": [
    {
     "data": {
      "text/plain": [
       "Order({   'asset_class': 'us_equity',\n",
       "    'asset_id': '8ccae427-5dd0-45b3-b5fe-7ba5e422c766',\n",
       "    'canceled_at': None,\n",
       "    'client_order_id': '7c2394c0-de87-4b46-b696-fd2e6b0c0f7b',\n",
       "    'created_at': '2021-12-06T20:47:46.762657671Z',\n",
       "    'expired_at': None,\n",
       "    'extended_hours': False,\n",
       "    'failed_at': None,\n",
       "    'filled_at': None,\n",
       "    'filled_avg_price': None,\n",
       "    'filled_qty': '0',\n",
       "    'hwm': None,\n",
       "    'id': '1c7d3371-9743-4f0d-bdb9-0d087be1d1d5',\n",
       "    'legs': [   {   'asset_class': 'us_equity',\n",
       "                    'asset_id': '8ccae427-5dd0-45b3-b5fe-7ba5e422c766',\n",
       "                    'canceled_at': None,\n",
       "                    'client_order_id': 'a3ac7d49-5404-4ed9-b4c0-c6d48706309c',\n",
       "                    'created_at': '2021-12-06T20:47:46.76270876Z',\n",
       "                    'expired_at': None,\n",
       "                    'extended_hours': False,\n",
       "                    'failed_at': None,\n",
       "                    'filled_at': None,\n",
       "                    'filled_avg_price': None,\n",
       "                    'filled_qty': '0',\n",
       "                    'hwm': None,\n",
       "                    'id': 'b3776084-8e07-4be0-8789-d3c51973e7f7',\n",
       "                    'legs': None,\n",
       "                    'limit_price': '3000',\n",
       "                    'notional': None,\n",
       "                    'order_class': 'bracket',\n",
       "                    'order_type': 'limit',\n",
       "                    'qty': '10',\n",
       "                    'replaced_at': None,\n",
       "                    'replaced_by': None,\n",
       "                    'replaces': None,\n",
       "                    'side': 'sell',\n",
       "                    'status': 'held',\n",
       "                    'stop_price': None,\n",
       "                    'submitted_at': '2021-12-06T20:47:46.76194578Z',\n",
       "                    'symbol': 'TSLA',\n",
       "                    'time_in_force': 'day',\n",
       "                    'trail_percent': None,\n",
       "                    'trail_price': None,\n",
       "                    'type': 'limit',\n",
       "                    'updated_at': '2021-12-06T20:47:46.76270876Z'},\n",
       "                {   'asset_class': 'us_equity',\n",
       "                    'asset_id': '8ccae427-5dd0-45b3-b5fe-7ba5e422c766',\n",
       "                    'canceled_at': None,\n",
       "                    'client_order_id': '3447634e-372c-419a-a31d-7d4273ab1b0a',\n",
       "                    'created_at': '2021-12-06T20:47:46.762732611Z',\n",
       "                    'expired_at': None,\n",
       "                    'extended_hours': False,\n",
       "                    'failed_at': None,\n",
       "                    'filled_at': None,\n",
       "                    'filled_avg_price': None,\n",
       "                    'filled_qty': '0',\n",
       "                    'hwm': None,\n",
       "                    'id': 'a3d4b84c-bc7c-430c-87dc-70ead91d22fc',\n",
       "                    'legs': None,\n",
       "                    'limit_price': '290.95',\n",
       "                    'notional': None,\n",
       "                    'order_class': 'bracket',\n",
       "                    'order_type': 'stop_limit',\n",
       "                    'qty': '10',\n",
       "                    'replaced_at': None,\n",
       "                    'replaced_by': None,\n",
       "                    'replaces': None,\n",
       "                    'side': 'sell',\n",
       "                    'status': 'held',\n",
       "                    'stop_price': '297.95',\n",
       "                    'submitted_at': '2021-12-06T20:47:46.76194578Z',\n",
       "                    'symbol': 'TSLA',\n",
       "                    'time_in_force': 'day',\n",
       "                    'trail_percent': None,\n",
       "                    'trail_price': None,\n",
       "                    'type': 'stop_limit',\n",
       "                    'updated_at': '2021-12-06T20:47:46.762732611Z'}],\n",
       "    'limit_price': None,\n",
       "    'notional': None,\n",
       "    'order_class': 'bracket',\n",
       "    'order_type': 'market',\n",
       "    'qty': '10',\n",
       "    'replaced_at': None,\n",
       "    'replaced_by': None,\n",
       "    'replaces': None,\n",
       "    'side': 'buy',\n",
       "    'status': 'accepted',\n",
       "    'stop_price': None,\n",
       "    'submitted_at': '2021-12-06T20:47:46.76194578Z',\n",
       "    'symbol': 'TSLA',\n",
       "    'time_in_force': 'day',\n",
       "    'trail_percent': None,\n",
       "    'trail_price': None,\n",
       "    'type': 'market',\n",
       "    'updated_at': '2021-12-06T20:47:46.762657671Z'})"
      ]
     },
     "execution_count": 44,
     "metadata": {},
     "output_type": "execute_result"
    }
   ],
   "source": [
    "order"
   ]
  },
  {
   "cell_type": "code",
   "execution_count": 20,
   "id": "287cc08d-71da-4759-b3d7-241d3d643679",
   "metadata": {},
   "outputs": [
    {
     "data": {
      "text/plain": [
       "alpaca_trade_api.entity.Order"
      ]
     },
     "execution_count": 20,
     "metadata": {},
     "output_type": "execute_result"
    }
   ],
   "source": [
    "type(order)"
   ]
  },
  {
   "cell_type": "code",
   "execution_count": 22,
   "id": "64b4c469-2ab5-49de-8e13-3a67a7cce5d6",
   "metadata": {},
   "outputs": [
    {
     "ename": "AttributeError",
     "evalue": "'Order' object has no attribute 'take_profit'",
     "output_type": "error",
     "traceback": [
      "\u001b[0;31m---------------------------------------------------------------------------\u001b[0m",
      "\u001b[0;31mAttributeError\u001b[0m                            Traceback (most recent call last)",
      "\u001b[0;32m/tmp/ipykernel_55591/2811487031.py\u001b[0m in \u001b[0;36m<module>\u001b[0;34m\u001b[0m\n\u001b[0;32m----> 1\u001b[0;31m \u001b[0;34m(\u001b[0m\u001b[0morder\u001b[0m\u001b[0;34m.\u001b[0m\u001b[0mtake_profit\u001b[0m \u001b[0;32mor\u001b[0m \u001b[0;32mNone\u001b[0m\u001b[0;34m)\u001b[0m \u001b[0;32mand\u001b[0m \u001b[0morder\u001b[0m\u001b[0;34m.\u001b[0m\u001b[0mtake_profit\u001b[0m\u001b[0;34m.\u001b[0m\u001b[0mlimit_price\u001b[0m\u001b[0;34m\u001b[0m\u001b[0;34m\u001b[0m\u001b[0m\n\u001b[0m",
      "\u001b[0;32m~/.cache/pypoetry/virtualenvs/tradingapi-ENOqoGOd-py3.8/lib/python3.8/site-packages/alpaca_trade_api/entity.py\u001b[0m in \u001b[0;36m__getattr__\u001b[0;34m(self, key)\u001b[0m\n\u001b[1;32m     27\u001b[0m             \u001b[0;32melse\u001b[0m\u001b[0;34m:\u001b[0m\u001b[0;34m\u001b[0m\u001b[0;34m\u001b[0m\u001b[0m\n\u001b[1;32m     28\u001b[0m                 \u001b[0;32mreturn\u001b[0m \u001b[0mval\u001b[0m\u001b[0;34m\u001b[0m\u001b[0;34m\u001b[0m\u001b[0m\n\u001b[0;32m---> 29\u001b[0;31m         \u001b[0;32mreturn\u001b[0m \u001b[0msuper\u001b[0m\u001b[0;34m(\u001b[0m\u001b[0;34m)\u001b[0m\u001b[0;34m.\u001b[0m\u001b[0m__getattribute__\u001b[0m\u001b[0;34m(\u001b[0m\u001b[0mkey\u001b[0m\u001b[0;34m)\u001b[0m\u001b[0;34m\u001b[0m\u001b[0;34m\u001b[0m\u001b[0m\n\u001b[0m\u001b[1;32m     30\u001b[0m \u001b[0;34m\u001b[0m\u001b[0m\n\u001b[1;32m     31\u001b[0m     \u001b[0;32mdef\u001b[0m \u001b[0m__repr__\u001b[0m\u001b[0;34m(\u001b[0m\u001b[0mself\u001b[0m\u001b[0;34m)\u001b[0m\u001b[0;34m:\u001b[0m\u001b[0;34m\u001b[0m\u001b[0;34m\u001b[0m\u001b[0m\n",
      "\u001b[0;31mAttributeError\u001b[0m: 'Order' object has no attribute 'take_profit'"
     ]
    }
   ],
   "source": [
    "(order.take_profit or None) and order.take_profit.limit_price"
   ]
  },
  {
   "cell_type": "code",
   "execution_count": null,
   "id": "81e46586-a1a0-4e04-afed-775bf6203383",
   "metadata": {},
   "outputs": [],
   "source": []
  }
 ],
 "metadata": {
  "kernelspec": {
   "display_name": "Python 3 (ipykernel)",
   "language": "python",
   "name": "python3"
  },
  "language_info": {
   "codemirror_mode": {
    "name": "ipython",
    "version": 3
   },
   "file_extension": ".py",
   "mimetype": "text/x-python",
   "name": "python",
   "nbconvert_exporter": "python",
   "pygments_lexer": "ipython3",
   "version": "3.8.10"
  }
 },
 "nbformat": 4,
 "nbformat_minor": 5
}
